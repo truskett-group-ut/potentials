{
 "cells": [
  {
   "cell_type": "code",
   "execution_count": 89,
   "metadata": {
    "collapsed": false
   },
   "outputs": [],
   "source": [
    "def potential(r, sigma, eps1, eps2, a1, a2, n1, n2, typ):\n",
    "    if typ == 1:\n",
    "        return -eps1*exp(-((r-sigma-(a1/2.))/(a1/2.))**n1)+eps2*exp(-((r-sigma-(a2/2.)-a1)/(a2/2.))**n2)\n",
    "    if typ == 2:\n",
    "        return -eps1*exp(-((r-sigma-(a1/2.))/(a1/2.))**n1)*((-r+sigma+a1)/a1)+eps2*exp(-((r-sigma-(a2/2.)-a1)/(a2/2.))**n2)\n",
    "def wca(r, sigma, eps, n):\n",
    "    if r <= 2**(1/n):\n",
    "        return 4.*eps*((sigma/r)**(2.*n)-(sigma/r)**(n)+0.25)\n",
    "    else:\n",
    "        return 0."
   ]
  },
  {
   "cell_type": "code",
   "execution_count": 23,
   "metadata": {
    "collapsed": true
   },
   "outputs": [],
   "source": [
    "import numpy as np\n",
    "from math import exp\n",
    "import matplotlib.pyplot as plt\n",
    "%matplotlib inline"
   ]
  },
  {
   "cell_type": "code",
   "execution_count": 96,
   "metadata": {
    "collapsed": false
   },
   "outputs": [],
   "source": [
    "sigma=1.\n",
    "eps1=0.215\n",
    "eps2=0.218\n",
    "a1=1.46\n",
    "a2=2.55\n",
    "n1=8.\n",
    "n2=2.\n",
    "eps=1.\n",
    "n=6.\n",
    "ur2 = []\n",
    "\n",
    "for r in np.arange(0.75, 7.05, 0.05):\n",
    "    ur2.append(wca(r, sigma, eps, n)+potential(r, sigma, eps1, eps2, a1, a2, n1, n2, 2))"
   ]
  },
  {
   "cell_type": "code",
   "execution_count": 97,
   "metadata": {
    "collapsed": false
   },
   "outputs": [
    {
     "data": {
      "text/plain": [
       "[0, 7, -0.3, 0.25]"
      ]
     },
     "execution_count": 97,
     "metadata": {},
     "output_type": "execute_result"
    },
    {
     "data": {
      "image/png": "[encoded data removed]",
      "text/plain": [
       "<matplotlib.figure.Figure at 0x7f9b9137f510>"
      ]
     },
     "metadata": {},
     "output_type": "display_data"
    }
   ],
   "source": [
    "plt.plot(np.arange(0.75, 7.05, 0.05), ur1)\n",
    "plt.plot(np.arange(0.75, 7.05, 0.05), ur2)\n",
    "#plt.plot(np.arange(0.75, 7.05, 0.05), urwca)\n",
    "#plt.plot(np.arange(0.75, 7.05, 0.05), urpiece1)\n",
    "#plt.plot(np.arange(0.75, 7.05, 0.05), urpiece2)\n",
    "#plt.plot(np.arange(0.75, 7.05, 0.05), urext2)\n",
    "plt.axis([0, 7, -0.3, 0.25])"
   ]
  },
  {
   "cell_type": "code",
   "execution_count": null,
   "metadata": {
    "collapsed": true
   },
   "outputs": [],
   "source": []
  }
 ],
 "metadata": {
  "kernelspec": {
   "display_name": "Python 2",
   "language": "python",
   "name": "python2"
  },
  "language_info": {
   "codemirror_mode": {
    "name": "ipython",
    "version": 2
   },
   "file_extension": ".py",
   "mimetype": "text/x-python",
   "name": "python",
   "nbconvert_exporter": "python",
   "pygments_lexer": "ipython2",
   "version": "2.7.13"
  }
 },
 "nbformat": 4,
 "nbformat_minor": 0
}
